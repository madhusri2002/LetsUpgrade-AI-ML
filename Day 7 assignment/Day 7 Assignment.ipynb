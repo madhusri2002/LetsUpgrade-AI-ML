{
 "cells": [
  {
   "cell_type": "markdown",
   "metadata": {},
   "source": [
    "# Write a program to copy the contents of one file to another using a for loop. (Don’t use built-in copy function) \n"
   ]
  },
  {
   "cell_type": "code",
   "execution_count": 8,
   "metadata": {},
   "outputs": [],
   "source": [
    "f=open(\"t1.txt\",\"w\")\n",
    "f.write(\"Life is empty without a friend. So when you gain a true friend, make sure you cherish it with all your heart. The person with a real friend, with whom all the things can be shared, are the luckiest in the world. A friend will never judge you, and they will never stop scolding you if you are wrong.\")\n",
    "f=open(\"t1.txt\",\"r\")\n",
    "f2=open(\"new.txt\",\"w\")\n",
    "l = f.readline()\n",
    "for i in l:\n",
    "    f2.write(l)\n",
    "    l = f.readline()\n",
    "f.close()\n",
    "f2.close()\n",
    "\n",
    "    "
   ]
  },
  {
   "cell_type": "markdown",
   "metadata": {},
   "source": [
    "# Write a Python program to find maximum and minimum values in the dictionary. Do not use built-in min and max functions. \n"
   ]
  },
  {
   "cell_type": "code",
   "execution_count": 18,
   "metadata": {},
   "outputs": [
    {
     "name": "stdout",
     "output_type": "stream",
     "text": [
      "[1, 2, 3, 4, 5]\n",
      "min= 1\n",
      "max= 5\n"
     ]
    }
   ],
   "source": [
    "d={\"a\":1,\"b\":3,\"c\":5,\"d\":2,\"e\":4}\n",
    "a=sorted(d.values())\n",
    "print(a)\n",
    "print(\"min=\",a[0])\n",
    "print(\"max=\",a[-1])"
   ]
  }
 ],
 "metadata": {
  "kernelspec": {
   "display_name": "Python 3",
   "language": "python",
   "name": "python3"
  },
  "language_info": {
   "codemirror_mode": {
    "name": "ipython",
    "version": 3
   },
   "file_extension": ".py",
   "mimetype": "text/x-python",
   "name": "python",
   "nbconvert_exporter": "python",
   "pygments_lexer": "ipython3",
   "version": "3.7.6"
  }
 },
 "nbformat": 4,
 "nbformat_minor": 4
}
