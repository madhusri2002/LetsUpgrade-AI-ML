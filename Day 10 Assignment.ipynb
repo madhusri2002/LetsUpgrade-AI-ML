{
 "cells": [
  {
   "cell_type": "markdown",
   "metadata": {},
   "source": [
    "# Create an element-wise comparison (greater, greater_equal, less and less_equal) of two given arrays"
   ]
  },
  {
   "cell_type": "code",
   "execution_count": 3,
   "metadata": {},
   "outputs": [
    {
     "name": "stdout",
     "output_type": "stream",
     "text": [
      "Lists are:\n",
      "[3 5]\n",
      "[2 5]\n",
      "Comparison - greater\n",
      "[ True False]\n",
      "Comparison - greater_equal\n",
      "[ True  True]\n",
      "Comparison - less\n",
      "[False False]\n",
      "Comparison - less_equal\n",
      "[False  True]\n"
     ]
    }
   ],
   "source": [
    "import numpy as np\n",
    "a = np.array([3, 5])\n",
    "b = np.array([2, 5])\n",
    "print(\"Lists are:\")\n",
    "print(a)\n",
    "print(b)\n",
    "print(\"Comparison - greater\")\n",
    "print(np.greater(a, b))\n",
    "print(\"Comparison - greater_equal\")\n",
    "print(np.greater_equal(a, b))\n",
    "print(\"Comparison - less\")\n",
    "print(np.less(a, b))\n",
    "print(\"Comparison - less_equal\")\n",
    "print(np.less_equal(a, b))"
   ]
  },
  {
   "cell_type": "markdown",
   "metadata": {},
   "source": [
    "# Write a NumPy program to create an array of 10 zeros,10 ones, 10 fives"
   ]
  },
  {
   "cell_type": "code",
   "execution_count": 4,
   "metadata": {},
   "outputs": [
    {
     "name": "stdout",
     "output_type": "stream",
     "text": [
      "10 zeros:\n",
      "[0. 0. 0. 0. 0. 0. 0. 0. 0. 0.]\n",
      "10 ones:\n",
      "[1. 1. 1. 1. 1. 1. 1. 1. 1. 1.]\n",
      "10 fives:\n",
      "[5. 5. 5. 5. 5. 5. 5. 5. 5. 5.]\n"
     ]
    }
   ],
   "source": [
    "import numpy as np\n",
    "arr=np.zeros(10)\n",
    "print(\"10 zeros:\")\n",
    "print(arr)\n",
    "arr=np.ones(10)\n",
    "print(\"10 ones:\")\n",
    "print(arr)\n",
    "arr=np.ones(10)*5\n",
    "print(\"10 fives:\")\n",
    "print(arr)"
   ]
  },
  {
   "cell_type": "markdown",
   "metadata": {},
   "source": [
    "# Write a NumPy program to compute sum of all elements, sum of each column and sum of each row of a given array"
   ]
  },
  {
   "cell_type": "code",
   "execution_count": 6,
   "metadata": {},
   "outputs": [
    {
     "name": "stdout",
     "output_type": "stream",
     "text": [
      "array is:\n",
      "[[1. 0. 0.]\n",
      " [0. 1. 0.]\n",
      " [0. 0. 1.]]\n",
      "Sum of all elements:\n",
      "3.0\n",
      "Sum of each column:\n",
      "[1. 1. 1.]\n",
      "Sum of each row:\n",
      "[1. 1. 1.]\n"
     ]
    }
   ],
   "source": [
    "import numpy as np\n",
    "arr=np.eye(3,3)\n",
    "print(\"array is:\")\n",
    "print(arr)\n",
    "print(\"Sum of all elements:\")\n",
    "print(np.sum(arr))\n",
    "print(\"Sum of each column:\")\n",
    "print(np.sum(arr, axis=0))\n",
    "print(\"Sum of each row:\")\n",
    "print(np.sum(arr, axis=1))\n",
    "\n"
   ]
  },
  {
   "cell_type": "markdown",
   "metadata": {},
   "source": [
    "# Write a NumPy program to add, subtract, multiply, divide arguments element-wise."
   ]
  },
  {
   "cell_type": "code",
   "execution_count": 9,
   "metadata": {},
   "outputs": [
    {
     "name": "stdout",
     "output_type": "stream",
     "text": [
      "add= 15\n",
      "sub= 5\n",
      "mul= 50\n",
      "div= 2.0\n"
     ]
    }
   ],
   "source": [
    "import numpy as np\n",
    "s1=10\n",
    "s2=5\n",
    "print(\"add=\",np.add(s1,s2))\n",
    "print(\"sub=\",np.subtract(s1,s2))\n",
    "print(\"mul=\",np.multiply(s1,s2))\n",
    "print(\"div=\",np.divide(s1,s2))"
   ]
  },
  {
   "cell_type": "markdown",
   "metadata": {},
   "source": [
    "# Write a NumPy program to compute the trigonometric sine, cosine and tangent array of angles given in degree."
   ]
  },
  {
   "cell_type": "code",
   "execution_count": 10,
   "metadata": {},
   "outputs": [
    {
     "data": {
      "text/plain": [
       "array([[-0.21717737,  0.00408362],\n",
       "       [ 0.00510453, -0.21411465]])"
      ]
     },
     "execution_count": 10,
     "metadata": {},
     "output_type": "execute_result"
    }
   ],
   "source": [
    "from scipy import linalg\n",
    "d=np.mat([[3,4],[5,6]])\n",
    "linalg.sinm(d)\n",
    "linalg.cosm(d)\n",
    "linalg.tanm(d)\n"
   ]
  },
  {
   "cell_type": "code",
   "execution_count": 11,
   "metadata": {},
   "outputs": [
    {
     "name": "stdout",
     "output_type": "stream",
     "text": [
      "sine:angles given in degrees\n",
      "[0.         0.5        0.70710678 0.8660254  1.        ]\n",
      "cosine:angles given in degrees\n",
      "[1.00000000e+00 8.66025404e-01 7.07106781e-01 5.00000000e-01\n",
      " 6.12323400e-17]\n",
      "tangent:angles given in degrees\n",
      "[0.00000000e+00 5.77350269e-01 1.00000000e+00 1.73205081e+00\n",
      " 1.63312394e+16]\n"
     ]
    }
   ],
   "source": [
    "import numpy as np\n",
    "print(\"sine:angles given in degrees\")\n",
    "print(np.sin(np.array((0., 30., 45., 60., 90.)) * np.pi / 180.))\n",
    "print(\"cosine:angles given in degrees\")\n",
    "print(np.cos(np.array((0., 30., 45., 60., 90.)) * np.pi / 180.))\n",
    "print(\"tangent:angles given in degrees\")\n",
    "print(np.tan(np.array((0., 30., 45., 60., 90.)) * np.pi / 180.))"
   ]
  },
  {
   "cell_type": "markdown",
   "metadata": {},
   "source": [
    "# Write a Pandas program to create and display a DataFrame from a specified dictionary data which has the index labels"
   ]
  },
  {
   "cell_type": "code",
   "execution_count": 13,
   "metadata": {},
   "outputs": [
    {
     "name": "stdout",
     "output_type": "stream",
     "text": [
      "    name  score  attempts qualify\n",
      "a  Madhu   12.5         1      no\n",
      "b   Nive    9.0         3     yes\n",
      "c  Sandy    NaN         2     yes\n"
     ]
    }
   ],
   "source": [
    "import pandas as pd\n",
    "import numpy as np\n",
    "\n",
    "exam_data  = {'name': ['Madhu', 'Nive', 'Sandy'],\n",
    "        'score': [12.5, 9, np.nan],\n",
    "        'attempts': [1, 3, 2],\n",
    "        'qualify': ['no', 'yes', 'yes']}\n",
    "labels = ['a', 'b', 'c']\n",
    "\n",
    "df = pd.DataFrame(exam_data , index=labels)\n",
    "print(df)"
   ]
  },
  {
   "cell_type": "markdown",
   "metadata": {},
   "source": [
    "# Write a Pandas program to select the 'name' and 'score' columns from the following DataFrame."
   ]
  },
  {
   "cell_type": "code",
   "execution_count": 15,
   "metadata": {},
   "outputs": [
    {
     "name": "stdout",
     "output_type": "stream",
     "text": [
      "    name  score\n",
      "a  Madhu   12.5\n",
      "b   Nive    9.0\n",
      "c  Sandy    NaN\n"
     ]
    }
   ],
   "source": [
    "print(df[['name','score']])"
   ]
  },
  {
   "cell_type": "markdown",
   "metadata": {},
   "source": [
    "# Write a Pandas program to join the two given dataframes along rows and assign all data."
   ]
  },
  {
   "cell_type": "code",
   "execution_count": 19,
   "metadata": {},
   "outputs": [
    {
     "name": "stdout",
     "output_type": "stream",
     "text": [
      "       name  score  attempts qualify\n",
      "0     Madhu   12.5         1      no\n",
      "1      Nive    9.0         3     yes\n",
      "2     Sandy    6.0         2     yes\n",
      "0       uma   12.0         3     yes\n",
      "1    Nithin    9.2         2     yes\n",
      "2  Santhosh    6.8         1     yes\n"
     ]
    }
   ],
   "source": [
    "import pandas as pd\n",
    "\n",
    "exam_data  = pd.DataFrame({'name': ['Madhu', 'Nive', 'Sandy'],\n",
    "        'score': [12.5, 9,6],\n",
    "        'attempts': [1, 3, 2],\n",
    "        'qualify': ['no', 'yes', 'yes']})\n",
    "exam_data2  =pd.DataFrame({'name': ['uma', 'Nithin', 'Santhosh'],\n",
    "        'score': [12, 9.2,6.8],\n",
    "        'attempts': [3, 2, 1],\n",
    "        'qualify': ['yes', 'yes', 'yes']})\n",
    "result=pd.concat([exam_data, exam_data2])\n",
    "print(result)"
   ]
  },
  {
   "cell_type": "markdown",
   "metadata": {},
   "source": [
    "# Write a Pandas program to detect missing values of a given DataFrame. Display True or False."
   ]
  },
  {
   "cell_type": "code",
   "execution_count": 20,
   "metadata": {},
   "outputs": [
    {
     "name": "stdout",
     "output_type": "stream",
     "text": [
      "    name  score  attempts  qualify\n",
      "0  False  False     False    False\n",
      "1  False  False      True    False\n",
      "2  False   True     False    False\n"
     ]
    }
   ],
   "source": [
    "import pandas as pd\n",
    "import numpy as np\n",
    "\n",
    "exam_data  = pd.DataFrame({'name': ['Madhu', 'Nive', 'Sandy'],\n",
    "        'score': [12.5, 9,np.nan],\n",
    "        'attempts': [1, np.nan, 2],\n",
    "        'qualify': ['no', 'yes', 'yes']})\n",
    "print(exam_data.isna())\n",
    "                    "
   ]
  },
  {
   "cell_type": "markdown",
   "metadata": {},
   "source": [
    "# Write a Pandas program to create and display a one-dimensional array-like object containing an array of data."
   ]
  },
  {
   "cell_type": "code",
   "execution_count": 22,
   "metadata": {},
   "outputs": [
    {
     "name": "stdout",
     "output_type": "stream",
     "text": [
      "0     3\n",
      "1     6\n",
      "2     9\n",
      "3    12\n",
      "4     1\n",
      "dtype: int64\n"
     ]
    }
   ],
   "source": [
    "# import pandas as pd\n",
    "arr = pd.Series([3,6,9,12,1])\n",
    "print(arr)"
   ]
  },
  {
   "cell_type": "markdown",
   "metadata": {},
   "source": [
    "#                                              THANK YOU!!!!!!"
   ]
  }
 ],
 "metadata": {
  "kernelspec": {
   "display_name": "Python 3",
   "language": "python",
   "name": "python3"
  },
  "language_info": {
   "codemirror_mode": {
    "name": "ipython",
    "version": 3
   },
   "file_extension": ".py",
   "mimetype": "text/x-python",
   "name": "python",
   "nbconvert_exporter": "python",
   "pygments_lexer": "ipython3",
   "version": "3.7.6"
  }
 },
 "nbformat": 4,
 "nbformat_minor": 4
}
