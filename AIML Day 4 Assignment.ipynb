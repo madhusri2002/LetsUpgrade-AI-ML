{
 "cells": [
  {
   "cell_type": "markdown",
   "metadata": {},
   "source": [
    "# Python program to demonstrate on whether addition, subtraction, multiplication, division, floor division, and modulo operations performed on complex numbers.\n",
    "\n",
    "## We cannot perform floor division and modulo operations on complex numbers."
   ]
  },
  {
   "cell_type": "markdown",
   "metadata": {},
   "source": [
    "### Addition, subtraction, multiplication and division of complex numbers-"
   ]
  },
  {
   "cell_type": "code",
   "execution_count": 6,
   "metadata": {},
   "outputs": [
    {
     "name": "stdout",
     "output_type": "stream",
     "text": [
      "enter a complex number:3+5j\n",
      "enter another complex number:4+7j\n",
      "addition= (7+12j)\n",
      "difference= (-1-2j)\n",
      "product= (-23+41j)\n",
      "divsion= (0.7230769230769232-0.015384615384615427j)\n"
     ]
    }
   ],
   "source": [
    "a=complex(input(\"enter a complex number:\"))\n",
    "b=complex(input(\"enter another complex number:\"))\n",
    "c=a+b\n",
    "d=a-b\n",
    "e=a*b\n",
    "f=a/b\n",
    "print(\"addition=\",c)\n",
    "print(\"difference=\",d)\n",
    "print(\"product=\",e)\n",
    "print(\"divsion=\",f)"
   ]
  },
  {
   "cell_type": "markdown",
   "metadata": {},
   "source": [
    "# Range() in python"
   ]
  },
  {
   "cell_type": "markdown",
   "metadata": {},
   "source": [
    "### Range() in python is used to print sequence of numbers from starting number to the stop number.\n",
    "### It takes three parameters: 1.Start 2. Stop 3.Step\n",
    "### Syntax- range(start,stop,step)\n",
    "\n",
    "###  start argument -is the starting number or the lower limit specified by the user.Its optional.If start is not given,by default it is taken as \"0\".\n",
    "\n",
    "###  stop argument -It usually works in the form of (n-1).for eg, if the range given by the user is as follows,range(1,5),then it prints numbers from 1 to 4 and not 5.\n",
    "\n",
    "###  step argument -It tells us how many steps we need to move.It is also optional.If step is not given,then it takes default value as 1."
   ]
  },
  {
   "cell_type": "code",
   "execution_count": 7,
   "metadata": {},
   "outputs": [
    {
     "name": "stdout",
     "output_type": "stream",
     "text": [
      "0\n",
      "1\n",
      "2\n",
      "3\n"
     ]
    }
   ],
   "source": [
    "for i in range(4):\n",
    "    print(i)"
   ]
  },
  {
   "cell_type": "code",
   "execution_count": 8,
   "metadata": {},
   "outputs": [
    {
     "name": "stdout",
     "output_type": "stream",
     "text": [
      "1\n",
      "2\n",
      "3\n",
      "4\n",
      "5\n"
     ]
    }
   ],
   "source": [
    "for i in range(1,6):\n",
    "    print(i)"
   ]
  },
  {
   "cell_type": "code",
   "execution_count": 9,
   "metadata": {},
   "outputs": [
    {
     "name": "stdout",
     "output_type": "stream",
     "text": [
      "1\n",
      "3\n",
      "5\n"
     ]
    }
   ],
   "source": [
    "for i in range(1,6,2):\n",
    "    print(i)"
   ]
  },
  {
   "cell_type": "markdown",
   "metadata": {},
   "source": [
    "# Consider two numbers. Perform their subtraction and if the result of subtraction is greater than 25, print their multiplication result else print their division result."
   ]
  },
  {
   "cell_type": "code",
   "execution_count": 11,
   "metadata": {},
   "outputs": [
    {
     "name": "stdout",
     "output_type": "stream",
     "text": [
      "enter a number:45\n",
      "enter another number:20\n",
      "2.25\n"
     ]
    }
   ],
   "source": [
    "a=int(input(\"enter a number:\"))\n",
    "b=int(input(\"enter another number:\"))\n",
    "c=a-b\n",
    "if c>25:\n",
    "    d=a*b\n",
    "    print(d)\n",
    "else:\n",
    "    e=a/b\n",
    "    print(e)"
   ]
  },
  {
   "cell_type": "markdown",
   "metadata": {},
   "source": [
    "# Consider a list of 10 elements of integer values. If the number in the list is divisible by 2, print the result as\"square of that number minus 2\"."
   ]
  },
  {
   "cell_type": "code",
   "execution_count": 3,
   "metadata": {},
   "outputs": [
    {
     "name": "stdout",
     "output_type": "stream",
     "text": [
      "ENTER ANY 10 INTEGER VALUES\n",
      "1\n",
      "2\n",
      "3\n",
      "4\n",
      "5\n",
      "6\n",
      "7\n",
      "8\n",
      "9\n",
      "10\n",
      "say 1 is not divisible by 2\n",
      "say 2 is divisible by 2\n",
      "2\n",
      "say 3 is not divisible by 2\n",
      "say 4 is divisible by 2\n",
      "14\n",
      "say 5 is not divisible by 2\n",
      "say 6 is divisible by 2\n",
      "34\n",
      "say 7 is not divisible by 2\n",
      "say 8 is divisible by 2\n",
      "62\n",
      "say 9 is not divisible by 2\n",
      "say 10 is divisible by 2\n",
      "98\n"
     ]
    }
   ],
   "source": [
    "lst = []\n",
    "print(\"ENTER ANY 10 INTEGER VALUES\")\n",
    "n = 10\n",
    "for i in range(0, n): \n",
    "    elements = int(input()) \n",
    "    lst.append(elements)\n",
    "for i in range(0, n):\n",
    "    if lst[i]%2==0:\n",
    "        print(\"say\",lst[i],\"is divisible by 2\")\n",
    "        result=(lst[i]**2)-2\n",
    "        print(result)\n",
    "    else:\n",
    "        print(\"say\",lst[i],\"is not divisible by 2\")\n"
   ]
  },
  {
   "cell_type": "markdown",
   "metadata": {},
   "source": [
    "# Consider a list of 10 elements. Print all the elements in the list which are greater than 7 when that number is divided 2."
   ]
  },
  {
   "cell_type": "code",
   "execution_count": 4,
   "metadata": {},
   "outputs": [
    {
     "name": "stdout",
     "output_type": "stream",
     "text": [
      "ENTER ANY 10 INTEGER VALUES\n",
      "10\n",
      "20\n",
      "30\n",
      "40\n",
      "50\n",
      "60\n",
      "70\n",
      "80\n",
      "90\n",
      "100\n",
      "element that is greater than 7 when divided by 2 is 20\n",
      "element that is greater than 7 when divided by 2 is 30\n",
      "element that is greater than 7 when divided by 2 is 40\n",
      "element that is greater than 7 when divided by 2 is 50\n",
      "element that is greater than 7 when divided by 2 is 60\n",
      "element that is greater than 7 when divided by 2 is 70\n",
      "element that is greater than 7 when divided by 2 is 80\n",
      "element that is greater than 7 when divided by 2 is 90\n",
      "element that is greater than 7 when divided by 2 is 100\n"
     ]
    }
   ],
   "source": [
    "lst = []\n",
    "print(\"ENTER ANY 10 INTEGER VALUES\")\n",
    "n = 10\n",
    "for i in range(0, n): \n",
    "    elements = int(input()) \n",
    "    lst.append(elements)\n",
    "for i in range(0, n):\n",
    "     if lst[i]%2==0 and (lst[i]/2)>7:\n",
    "            \n",
    "            print(\"element that is greater than 7 when divided by 2 is\",lst[i])\n",
    "        "
   ]
  }
 ],
 "metadata": {
  "kernelspec": {
   "display_name": "Python 3",
   "language": "python",
   "name": "python3"
  },
  "language_info": {
   "codemirror_mode": {
    "name": "ipython",
    "version": 3
   },
   "file_extension": ".py",
   "mimetype": "text/x-python",
   "name": "python",
   "nbconvert_exporter": "python",
   "pygments_lexer": "ipython3",
   "version": "3.7.6"
  }
 },
 "nbformat": 4,
 "nbformat_minor": 4
}
